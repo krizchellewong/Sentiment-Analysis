{
  "nbformat": 4,
  "nbformat_minor": 0,
  "metadata": {
    "colab": {
      "provenance": [],
      "authorship_tag": "ABX9TyPQYB8a/7NlugQU7QguAz8x",
      "include_colab_link": true
    },
    "kernelspec": {
      "name": "python3",
      "display_name": "Python 3"
    },
    "language_info": {
      "name": "python"
    }
  },
  "cells": [
    {
      "cell_type": "markdown",
      "metadata": {
        "id": "view-in-github",
        "colab_type": "text"
      },
      "source": [
        "<a href=\"https://colab.research.google.com/github/krizchellewong/Sentiment-Analysis/blob/main/SentimentAnalysis.ipynb\" target=\"_parent\"><img src=\"https://colab.research.google.com/assets/colab-badge.svg\" alt=\"Open In Colab\"/></a>"
      ]
    },
    {
      "cell_type": "code",
      "source": [
        "# Mount Google Drive\n",
        "from google.colab import drive, data_table\n",
        "drive.mount('/content/drive')"
      ],
      "metadata": {
        "colab": {
          "base_uri": "https://localhost:8080/"
        },
        "id": "LtDeX_cJOgZx",
        "outputId": "98fc68fd-5ec9-4f7f-90b4-235789b09bbe"
      },
      "execution_count": null,
      "outputs": [
        {
          "output_type": "stream",
          "name": "stdout",
          "text": [
            "Drive already mounted at /content/drive; to attempt to forcibly remount, call drive.mount(\"/content/drive\", force_remount=True).\n"
          ]
        }
      ]
    },
    {
      "cell_type": "code",
      "execution_count": null,
      "metadata": {
        "colab": {
          "base_uri": "https://localhost:8080/"
        },
        "id": "G3OxbqTaIHz6",
        "outputId": "2e481a1d-7b89-4853-89f5-b1f6e6cb80cf"
      },
      "outputs": [
        {
          "output_type": "stream",
          "name": "stdout",
          "text": [
            "Number of training Documents: 105846\n",
            "Positive: 52923\n",
            "Negative: 52923\n",
            "                                                         Text  IsPositive\n",
            "DocumentId                                                               \n",
            "2388179                                    never again 🌵 LINK        True\n",
            "657251      ma okey rang tanan promise naas lord dita nya ...        True\n",
            "1730789                            MENTION yawaaa gyud oh ?🖕😂        True\n",
            "868789      bahalag mangalata ang all, dili jud ko mag gma...       False\n",
            "1570427          makatambok gyud diay ang wholeday na tulog 😔       False\n",
            "921483      grabe tumawad mga naorder hahaha sis yung tubo...        True\n",
            "2234531                              good morning mga sawii 💦        True\n",
            "199387      stormy tuesday! braving pepito! keep safe and ...        True\n",
            "463795      aaahhh success yung pagconvince ko kay mama at...       False\n",
            "370398      a smart villain per se, but acting stupid and ...       False\n",
            "359918      time check 2:37 am medyo nakakaramdam na ako n...       False\n",
            "164966      last najud ni oooyyy please last najud ning LI...       False\n",
            "2288919                                     solid ang tambay❤        True\n",
            "1516764             chuyay pagyug designs tanan patisoy ba 😩😩       False\n",
            "499790      tang inaaa sana naman fake news lang yun, lord...        True\n",
            "1200090     ber months is coming ! malungkot na pasko is w...       False\n",
            "907689      ta gago kinukuha acc ko sa ml ay baka nahihilo...        True\n",
            "1184978                             ughhh i can't sleep 🤦🤦🤦🤦😭       False\n",
            "815606                    hoy bat ganyan ka huhu!!!❤❤❤❤❤ LINK        True\n",
            "1630058                        MENTION oo. totoo naman bhe ✨💓        True\n"
          ]
        }
      ],
      "source": [
        "import pandas as pd\n",
        "import csv\n",
        "\n",
        "\n",
        "train_path = \"/content/drive/My Drive/NLP1000/train.csv\"\n",
        "\n",
        "train_df = pd.read_csv(train_path, quoting=csv.QUOTE_ALL, encoding=\"utf-8\", index_col=0)\n",
        "print(\"Number of training Documents: %d\" % train_df.shape[0])\n",
        "print(\"Positive: %d\" % (train_df['IsPositive'] == True).sum())\n",
        "print(\"Negative: %d\" % (train_df['IsPositive'] == False).sum())\n",
        "\n",
        "# View dataset to check what to pre-process\n",
        "print(train_df[:20])"
      ]
    },
    {
      "cell_type": "code",
      "source": [
        "test_path = \"/content/drive/My Drive/NLP1000/test.csv\"\n",
        "\n",
        "test_df = pd.read_csv(test_path, quoting=csv.QUOTE_ALL, encoding=\"utf-8\")\n",
        "\n",
        "test_id = test_df['DocumentId'].values\n"
      ],
      "metadata": {
        "id": "iQIsSarsOHwf"
      },
      "execution_count": null,
      "outputs": []
    },
    {
      "cell_type": "code",
      "source": [
        "# Pre-processing and feature extraction\n",
        "from sklearn.feature_extraction.text import TfidfVectorizer\n",
        "import re\n",
        "\n",
        "# Turning the data column into an array\n",
        "x_train = train_df['Text'].values\n",
        "x_test = test_df['Text'].values\n",
        "y_train = train_df['IsPositive'].values\n",
        "\n",
        "# Pre-processing steps considered: removal of stop words, lowercasing of text (automatically done by scikit's vectorizers according to documentation)\n",
        "#                                  and removal of certain punctuation marks that do not necessarily convey emotion\n",
        "x_train = [re.sub(r'[\"$%&\\'\\[\\]()*+,-./;<=>@^_`{}#]','', i) for i in x_train]\n",
        "x_test = [re.sub(r'[\"$%&\\'\\[\\]()*+,-./;<=>@^_`{}#]','', i) for i in x_test]\n",
        "\n",
        "vectorizer = TfidfVectorizer()\n",
        "\n",
        "x_train = vectorizer.fit_transform(x_train)\n",
        "x_test = vectorizer.transform(x_test)"
      ],
      "metadata": {
        "id": "y7LFxjdKPCdp"
      },
      "execution_count": null,
      "outputs": []
    },
    {
      "cell_type": "code",
      "source": [
        "from sklearn.linear_model import LogisticRegression\n",
        "from sklearn.naive_bayes import MultinomialNB\n",
        "\n",
        "clf = LogisticRegression(max_iter=1000)\n",
        "clf.fit(x_train, y_train)\n",
        "\n",
        "prediction = clf.predict(x_test)\n",
        "\n",
        "df = pd.DataFrame({'DocumentId': test_id, 'IsPositive': prediction})\n",
        "\n",
        "df.to_csv('submission.csv', quoting=csv.QUOTE_ALL, index=False)"
      ],
      "metadata": {
        "id": "zRvz3lVcXNi7"
      },
      "execution_count": null,
      "outputs": []
    }
  ]
}